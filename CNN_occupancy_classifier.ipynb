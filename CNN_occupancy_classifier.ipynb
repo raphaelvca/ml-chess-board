{
 "cells": [
  {
   "cell_type": "code",
   "execution_count": 1,
   "metadata": {},
   "outputs": [],
   "source": [
    "import os\n",
    "import tensorflow as tf\n",
    "import pandas as pd\n",
    "import numpy as np\n",
    "import matplotlib.pyplot as plt\n",
    "from tensorflow import keras\n",
    "from tensorflow.keras import layers\n",
    "from Creator_dataset import Creator_dataset\n",
    "from tensorflow.keras import datasets, layers, models\n",
    "from tensorflow.keras import regularizers"
   ]
  },
  {
   "cell_type": "code",
   "execution_count": 2,
   "metadata": {},
   "outputs": [
    {
     "name": "stdout",
     "output_type": "stream",
     "text": [
      "--------------------\n",
      "Dataset <built-in function dir>\n",
      "occupancy\t32090\t1003 bt. x 32 bt.size: done\n",
      "--------------------\n",
      "Train\t\t802 bt. x 32 bt.size: done\n",
      "Val\t\t100 bt. x 32 bt.size: done\n",
      "Test\t\t101 bt. x 32 bt.size: done\n"
     ]
    }
   ],
   "source": [
    "BATCH_SIZE = 32\n",
    "IMG_SIZE = (100, 100)\n",
    "\n",
    "AUTOTUNE = tf.data.AUTOTUNE\n",
    "\n",
    "creator_dataset = Creator_dataset(BATCH_SIZE) \n",
    "dataset_train, dataset_val, dataset_test = creator_dataset.create_dataset(\"occupancy\", \"occupancy\", True)\n",
    "\n",
    "train_dataset = dataset_train.prefetch(buffer_size=AUTOTUNE)\n",
    "validation_dataset = dataset_val.prefetch(buffer_size=AUTOTUNE)\n",
    "test_dataset = dataset_test.prefetch(buffer_size=AUTOTUNE)\n",
    "\n",
    "image_batch = np.concatenate([x for x, y in dataset_train], axis=0)\n",
    "label_batch = np.concatenate([y for x, y in dataset_train], axis=0)\n",
    "image_batch_test = np.concatenate([x for x, y in dataset_test], axis=0)\n",
    "label_batch_test = np.concatenate([y for x, y in dataset_test], axis=0)"
   ]
  },
  {
   "cell_type": "code",
   "execution_count": 3,
   "metadata": {},
   "outputs": [
    {
     "name": "stdout",
     "output_type": "stream",
     "text": [
      "Model: \"sequential\"\n",
      "_________________________________________________________________\n",
      " Layer (type)                Output Shape              Param #   \n",
      "=================================================================\n",
      " conv2d (Conv2D)             (None, 98, 98, 16)        448       \n",
      "                                                                 \n",
      " max_pooling2d (MaxPooling2D  (None, 49, 49, 16)       0         \n",
      " )                                                               \n",
      "                                                                 \n",
      " conv2d_1 (Conv2D)           (None, 47, 47, 32)        4640      \n",
      "                                                                 \n",
      " max_pooling2d_1 (MaxPooling  (None, 23, 23, 32)       0         \n",
      " 2D)                                                             \n",
      "                                                                 \n",
      " conv2d_2 (Conv2D)           (None, 21, 21, 64)        18496     \n",
      "                                                                 \n",
      " max_pooling2d_2 (MaxPooling  (None, 10, 10, 64)       0         \n",
      " 2D)                                                             \n",
      "                                                                 \n",
      " conv2d_3 (Conv2D)           (None, 8, 8, 64)          36928     \n",
      "                                                                 \n",
      " max_pooling2d_3 (MaxPooling  (None, 4, 4, 64)         0         \n",
      " 2D)                                                             \n",
      "                                                                 \n",
      " conv2d_4 (Conv2D)           (None, 2, 2, 64)          36928     \n",
      "                                                                 \n",
      " max_pooling2d_4 (MaxPooling  (None, 1, 1, 64)         0         \n",
      " 2D)                                                             \n",
      "                                                                 \n",
      " flatten (Flatten)           (None, 64)                0         \n",
      "                                                                 \n",
      " dense (Dense)               (None, 512)               33280     \n",
      "                                                                 \n",
      " dense_1 (Dense)             (None, 1)                 513       \n",
      "                                                                 \n",
      "=================================================================\n",
      "Total params: 131,233\n",
      "Trainable params: 131,233\n",
      "Non-trainable params: 0\n",
      "_________________________________________________________________\n"
     ]
    }
   ],
   "source": [
    "model = tf.keras.models.Sequential([\n",
    "tf.keras.layers.Conv2D(16, (3,3), activation='relu', input_shape=(100, 100, 3)),\n",
    "tf.keras.layers.MaxPooling2D(2, 2),\n",
    "tf.keras.layers.Conv2D(32, (3,3), activation='relu'),\n",
    "tf.keras.layers.MaxPooling2D(2,2),\n",
    "tf.keras.layers.Conv2D(64, (3,3), activation='relu'),\n",
    "tf.keras.layers.MaxPooling2D(2,2),\n",
    "tf.keras.layers.Conv2D(64, (3,3), activation='relu'),\n",
    "tf.keras.layers.MaxPooling2D(2,2),\n",
    "tf.keras.layers.Conv2D(64, (3,3), activation='relu'),\n",
    "tf.keras.layers.MaxPooling2D(2,2),\n",
    "tf.keras.layers.Flatten(),\n",
    "tf.keras.layers.Dense(512, activation='relu'),\n",
    "tf.keras.layers.Dense(1, activation='sigmoid')])\n",
    "\n",
    "\n",
    "model.compile(optimizer='adam',\n",
    "              loss=tf.keras.losses.BinaryCrossentropy(from_logits=True),\n",
    "              metrics=['accuracy'])\n",
    "\n",
    "model.summary()"
   ]
  },
  {
   "cell_type": "code",
   "execution_count": null,
   "metadata": {},
   "outputs": [
    {
     "name": "stdout",
     "output_type": "stream",
     "text": [
      "Epoch 1/20\n"
     ]
    },
    {
     "name": "stderr",
     "output_type": "stream",
     "text": [
      "C:\\Users\\PC\\Anaconda3\\lib\\site-packages\\tensorflow\\python\\util\\dispatch.py:1096: UserWarning: \"`binary_crossentropy` received `from_logits=True`, but the `output` argument was produced by a sigmoid or softmax activation and thus does not represent logits. Was this intended?\"\n",
      "  return dispatch_target(*args, **kwargs)\n"
     ]
    },
    {
     "name": "stdout",
     "output_type": "stream",
     "text": [
      "802/802 [==============================] - 67s 84ms/step - loss: 0.1704 - accuracy: 0.9285 - val_loss: 0.0529 - val_accuracy: 0.9799\n",
      "Epoch 2/20\n",
      "802/802 [==============================] - 73s 91ms/step - loss: 0.0623 - accuracy: 0.9790 - val_loss: 0.0408 - val_accuracy: 0.9823\n",
      "Epoch 3/20\n",
      "802/802 [==============================] - 74s 92ms/step - loss: 0.0500 - accuracy: 0.9832 - val_loss: 0.0477 - val_accuracy: 0.9805\n",
      "Epoch 4/20\n",
      "802/802 [==============================] - 73s 91ms/step - loss: 0.0449 - accuracy: 0.9843 - val_loss: 0.0395 - val_accuracy: 0.9836\n",
      "Epoch 5/20\n",
      "802/802 [==============================] - 72s 90ms/step - loss: 0.0369 - accuracy: 0.9887 - val_loss: 0.0331 - val_accuracy: 0.9870\n",
      "Epoch 6/20\n",
      "802/802 [==============================] - 73s 91ms/step - loss: 0.0356 - accuracy: 0.9886 - val_loss: 0.0308 - val_accuracy: 0.9873\n",
      "Epoch 7/20\n",
      "802/802 [==============================] - 73s 91ms/step - loss: 0.0306 - accuracy: 0.9904 - val_loss: 0.0338 - val_accuracy: 0.9873\n",
      "Epoch 8/20\n",
      "802/802 [==============================] - 73s 91ms/step - loss: 0.0259 - accuracy: 0.9921 - val_loss: 0.0235 - val_accuracy: 0.9901\n",
      "Epoch 9/20\n",
      "802/802 [==============================] - 72s 90ms/step - loss: 0.0225 - accuracy: 0.9943 - val_loss: 0.0442 - val_accuracy: 0.9823\n",
      "Epoch 10/20\n",
      "802/802 [==============================] - 73s 91ms/step - loss: 0.0229 - accuracy: 0.9931 - val_loss: 0.0367 - val_accuracy: 0.9867\n",
      "Epoch 11/20\n",
      "802/802 [==============================] - 73s 91ms/step - loss: 0.0204 - accuracy: 0.9945 - val_loss: 0.0259 - val_accuracy: 0.9895\n",
      "Epoch 12/20\n",
      "802/802 [==============================] - 72s 90ms/step - loss: 0.0171 - accuracy: 0.9954 - val_loss: 0.0333 - val_accuracy: 0.9882\n",
      "Epoch 13/20\n",
      "342/802 [===========>..................] - ETA: 39s - loss: 0.0131 - accuracy: 0.9963"
     ]
    }
   ],
   "source": [
    "history = model.fit(image_batch, label_batch, epochs=20, \n",
    "                    validation_data=(image_batch_test, label_batch_test))\n",
    "\n",
    "\n",
    "plt.plot(history.history['accuracy'], label='accuracy')\n",
    "plt.plot(history.history['val_accuracy'], label = 'val_accuracy')\n",
    "plt.xlabel('Epoch')\n",
    "plt.ylabel('Accuracy')\n",
    "plt.ylim([0.5, 1])\n",
    "plt.legend(loc='lower right')\n"
   ]
  },
  {
   "cell_type": "code",
   "execution_count": null,
   "metadata": {},
   "outputs": [],
   "source": [
    "test_loss, test_acc = model.evaluate(image_batch_test,  label_batch_test, verbose=2)\n",
    "#model.save(\"models/CNN_occupancy\")\n"
   ]
  },
  {
   "cell_type": "code",
   "execution_count": null,
   "metadata": {},
   "outputs": [],
   "source": [
    "image_batch_val = np.concatenate([x for x, y in dataset_val], axis=0)\n",
    "label_batch_val = np.concatenate([y for x, y in dataset_val], axis=0)\n",
    "\n",
    "val_loss, val_acc = model.evaluate(image_batch_val,  label_batch_val, verbose=2)\n",
    "\n",
    "predictions = model.predict(image_batch_val)\n",
    "\n",
    "\n",
    "predlist = predictions.tolist()\n",
    "predlist = [x[0] for x in predlist]\n",
    "\n",
    "pred = pd.DataFrame({\"pred\": predlist,\n",
    "              \"lab\": label_batch_val})\n",
    "\n",
    "pred[\"pred\"] = pred[\"pred\"] > 0.5\n",
    "pred[\"pred\"] = pred[\"pred\"].astype(int)\n",
    "\n",
    "pd.crosstab(index=pred[\"lab\"], columns=pred[\"pred\"])\n"
   ]
  },
  {
   "cell_type": "code",
   "execution_count": null,
   "metadata": {},
   "outputs": [],
   "source": [
    "plt.figure(figsize=(10, 10))\n",
    "for i in range(64):\n",
    "  ax = plt.subplot(8, 8, i + 1)\n",
    "  plt.imshow(image_batch_val[i])\n",
    "  plt.title(str(predictions[i] > 0.5))\n",
    "  plt.axis(\"off\")"
   ]
  },
  {
   "cell_type": "code",
   "execution_count": null,
   "metadata": {},
   "outputs": [],
   "source": []
  }
 ],
 "metadata": {
  "interpreter": {
   "hash": "328a01b949998b204dbf48012eb03978d21098f3b3ddeb55d978f78c03478dea"
  },
  "kernelspec": {
   "display_name": "Python 3 (ipykernel)",
   "language": "python",
   "name": "python3"
  },
  "language_info": {
   "codemirror_mode": {
    "name": "ipython",
    "version": 3
   },
   "file_extension": ".py",
   "mimetype": "text/x-python",
   "name": "python",
   "nbconvert_exporter": "python",
   "pygments_lexer": "ipython3",
   "version": "3.9.7"
  }
 },
 "nbformat": 4,
 "nbformat_minor": 4
}
